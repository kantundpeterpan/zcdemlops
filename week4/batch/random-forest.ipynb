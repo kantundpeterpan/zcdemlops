{
 "cells": [
  {
   "cell_type": "code",
   "execution_count": 1,
   "id": "2e25cf66",
   "metadata": {},
   "outputs": [],
   "source": [
    "import pickle\n",
    "\n",
    "import pandas as pd\n",
    "\n",
    "from sklearn.feature_extraction import DictVectorizer\n",
    "from sklearn.ensemble import RandomForestRegressor\n",
    "from sklearn.metrics import root_mean_squared_error"
   ]
  },
  {
   "cell_type": "code",
   "execution_count": 2,
   "id": "041e9423",
   "metadata": {},
   "outputs": [],
   "source": [
    "from sklearn.pipeline import make_pipeline"
   ]
  },
  {
   "cell_type": "code",
   "execution_count": 3,
   "id": "506bec39",
   "metadata": {},
   "outputs": [],
   "source": [
    "import mlflow\n",
    "\n",
    "logged_model = '/home/kantundpeterpan/projects/zoomcamp/zcmlops/mlartifacts/2/models/m-dbbe1bfd8e8c44e88f459ca9df82f691/artifacts'\n",
    "# Load model as a PyFuncModel.\n",
    "model = mlflow.pyfunc.load_model(logged_model)"
   ]
  },
  {
   "cell_type": "code",
   "execution_count": 4,
   "id": "067bcd62",
   "metadata": {},
   "outputs": [
    {
     "data": {
      "text/plain": [
       "mlflow.pyfunc.loaded_model:\n",
       "  artifact_path: mlflow-artifacts:/2/models/m-dbbe1bfd8e8c44e88f459ca9df82f691/artifacts\n",
       "  flavor: mlflow.sklearn\n",
       "  run_id: ecf5c933c8d04c0cb32ac726b561ed13"
      ]
     },
     "execution_count": 4,
     "metadata": {},
     "output_type": "execute_result"
    }
   ],
   "source": [
    "model"
   ]
  },
  {
   "cell_type": "code",
   "execution_count": 5,
   "id": "b9666e19",
   "metadata": {},
   "outputs": [],
   "source": [
    "def read_dataframe(filename: str):\n",
    "    df = pd.read_parquet(filename)\n",
    "\n",
    "    df['duration'] = df.lpep_dropoff_datetime - df.lpep_pickup_datetime\n",
    "    df.duration = df.duration.dt.total_seconds() / 60\n",
    "    df = df[(df.duration >= 1) & (df.duration <= 60)]\n",
    "\n",
    "    categorical = ['PULocationID', 'DOLocationID']\n",
    "    df[categorical] = df[categorical].astype(str)\n",
    "    return df\n",
    "\n",
    "\n",
    "def prepare_dictionaries(df: pd.DataFrame):\n",
    "    df['PU_DO'] = df['PULocationID'] + '_' + df['DOLocationID']\n",
    "    categorical = ['PU_DO']\n",
    "    numerical = ['trip_distance']\n",
    "    dicts = df[categorical + numerical].to_dict(orient='records')\n",
    "    return dicts"
   ]
  },
  {
   "cell_type": "code",
   "execution_count": 6,
   "id": "6b5f0d80",
   "metadata": {},
   "outputs": [],
   "source": [
    "df = read_dataframe('https://d37ci6vzurychx.cloudfront.net/trip-data/green_tripdata_2021-01.parquet')\n",
    "\n",
    "dicts = prepare_dictionaries(df)\n",
    "y_pred = model.predict(dicts)"
   ]
  },
  {
   "cell_type": "code",
   "execution_count": 7,
   "id": "529caf33",
   "metadata": {},
   "outputs": [],
   "source": [
    "df_results = pd.DataFrame()"
   ]
  },
  {
   "cell_type": "code",
   "execution_count": 8,
   "id": "66edcfb9",
   "metadata": {},
   "outputs": [],
   "source": [
    "import uuid"
   ]
  },
  {
   "cell_type": "code",
   "execution_count": 9,
   "id": "550006e8",
   "metadata": {},
   "outputs": [],
   "source": [
    "df_results['ride_id'] = [str(uuid.uuid4()) for i in range(df.shape[0])]"
   ]
  },
  {
   "cell_type": "code",
   "execution_count": 11,
   "id": "4efeef36",
   "metadata": {},
   "outputs": [],
   "source": [
    "for col in ('lpep_pickup_datetime', 'lpep_dropoff_datetime',\n",
    "            'PULocationID', 'DOLocationID'):\n",
    "    df_results[col] = df[col]"
   ]
  },
  {
   "cell_type": "code",
   "execution_count": 12,
   "id": "2396914e",
   "metadata": {},
   "outputs": [],
   "source": [
    "df_results['actual_duration'] = df['duration']\n",
    "df_results['predicted_duration'] = y_pred"
   ]
  },
  {
   "cell_type": "code",
   "execution_count": 13,
   "id": "17c2d768",
   "metadata": {},
   "outputs": [],
   "source": [
    "df['diff'] = df_results['actual_duration'] - df_results['predicted_duration']"
   ]
  },
  {
   "cell_type": "code",
   "execution_count": 14,
   "id": "df9710da",
   "metadata": {},
   "outputs": [
    {
     "data": {
      "text/html": [
       "<div>\n",
       "<style scoped>\n",
       "    .dataframe tbody tr th:only-of-type {\n",
       "        vertical-align: middle;\n",
       "    }\n",
       "\n",
       "    .dataframe tbody tr th {\n",
       "        vertical-align: top;\n",
       "    }\n",
       "\n",
       "    .dataframe thead th {\n",
       "        text-align: right;\n",
       "    }\n",
       "</style>\n",
       "<table border=\"1\" class=\"dataframe\">\n",
       "  <thead>\n",
       "    <tr style=\"text-align: right;\">\n",
       "      <th></th>\n",
       "      <th>ride_id</th>\n",
       "      <th>lpep_pickup_datetime</th>\n",
       "      <th>lpep_dropoff_datetime</th>\n",
       "      <th>PULocationID</th>\n",
       "      <th>DOLocationID</th>\n",
       "      <th>actual_duration</th>\n",
       "      <th>predicted_duration</th>\n",
       "    </tr>\n",
       "  </thead>\n",
       "  <tbody>\n",
       "    <tr>\n",
       "      <th>0</th>\n",
       "      <td>cdd5e36f-77dd-4533-9c5f-e5f285ac2b38</td>\n",
       "      <td>2021-01-01 00:15:56</td>\n",
       "      <td>2021-01-01 00:19:52</td>\n",
       "      <td>43</td>\n",
       "      <td>151</td>\n",
       "      <td>3.933333</td>\n",
       "      <td>6.862711</td>\n",
       "    </tr>\n",
       "    <tr>\n",
       "      <th>1</th>\n",
       "      <td>e3c6c080-f71c-4100-bfb9-c2dd30a79140</td>\n",
       "      <td>2021-01-01 00:25:59</td>\n",
       "      <td>2021-01-01 00:34:44</td>\n",
       "      <td>166</td>\n",
       "      <td>239</td>\n",
       "      <td>8.750000</td>\n",
       "      <td>13.368721</td>\n",
       "    </tr>\n",
       "    <tr>\n",
       "      <th>2</th>\n",
       "      <td>7c752bf7-b518-45db-b634-2e1ca66493e9</td>\n",
       "      <td>2021-01-01 00:45:57</td>\n",
       "      <td>2021-01-01 00:51:55</td>\n",
       "      <td>41</td>\n",
       "      <td>42</td>\n",
       "      <td>5.966667</td>\n",
       "      <td>6.360871</td>\n",
       "    </tr>\n",
       "    <tr>\n",
       "      <th>3</th>\n",
       "      <td>0656c0b7-e894-435f-8da9-051d8c6e2327</td>\n",
       "      <td>2020-12-31 23:57:51</td>\n",
       "      <td>2021-01-01 00:04:56</td>\n",
       "      <td>168</td>\n",
       "      <td>75</td>\n",
       "      <td>7.083333</td>\n",
       "      <td>11.824423</td>\n",
       "    </tr>\n",
       "    <tr>\n",
       "      <th>4</th>\n",
       "      <td>0456522a-e834-4787-84b0-90cc8c512e2a</td>\n",
       "      <td>NaT</td>\n",
       "      <td>NaT</td>\n",
       "      <td>NaN</td>\n",
       "      <td>NaN</td>\n",
       "      <td>NaN</td>\n",
       "      <td>3.389290</td>\n",
       "    </tr>\n",
       "    <tr>\n",
       "      <th>...</th>\n",
       "      <td>...</td>\n",
       "      <td>...</td>\n",
       "      <td>...</td>\n",
       "      <td>...</td>\n",
       "      <td>...</td>\n",
       "      <td>...</td>\n",
       "      <td>...</td>\n",
       "    </tr>\n",
       "    <tr>\n",
       "      <th>73903</th>\n",
       "      <td>2e108d0a-6fcf-4e4f-977d-8dd1279d3c98</td>\n",
       "      <td>2021-01-28 20:29:00</td>\n",
       "      <td>2021-01-28 20:42:00</td>\n",
       "      <td>259</td>\n",
       "      <td>174</td>\n",
       "      <td>13.000000</td>\n",
       "      <td>41.526829</td>\n",
       "    </tr>\n",
       "    <tr>\n",
       "      <th>73904</th>\n",
       "      <td>589b4728-a313-4905-900a-eab0d4db70e1</td>\n",
       "      <td>2021-01-28 20:05:00</td>\n",
       "      <td>2021-01-28 20:34:00</td>\n",
       "      <td>42</td>\n",
       "      <td>3</td>\n",
       "      <td>29.000000</td>\n",
       "      <td>43.858974</td>\n",
       "    </tr>\n",
       "    <tr>\n",
       "      <th>73905</th>\n",
       "      <td>aff85fb3-5092-4fe7-bc03-8fb1646b8c6a</td>\n",
       "      <td>2021-01-28 20:47:00</td>\n",
       "      <td>2021-01-28 21:20:00</td>\n",
       "      <td>66</td>\n",
       "      <td>76</td>\n",
       "      <td>33.000000</td>\n",
       "      <td>14.436509</td>\n",
       "    </tr>\n",
       "    <tr>\n",
       "      <th>73906</th>\n",
       "      <td>f64f316e-b535-4a39-8b1b-7a1dcb3fdb05</td>\n",
       "      <td>2021-01-28 20:11:00</td>\n",
       "      <td>2021-01-28 20:25:00</td>\n",
       "      <td>181</td>\n",
       "      <td>61</td>\n",
       "      <td>14.000000</td>\n",
       "      <td>37.092622</td>\n",
       "    </tr>\n",
       "    <tr>\n",
       "      <th>73907</th>\n",
       "      <td>e9f49ffd-16bd-43bd-9fd7-ff822090ddd2</td>\n",
       "      <td>2021-01-28 20:11:00</td>\n",
       "      <td>2021-01-28 20:33:00</td>\n",
       "      <td>142</td>\n",
       "      <td>78</td>\n",
       "      <td>22.000000</td>\n",
       "      <td>11.100840</td>\n",
       "    </tr>\n",
       "  </tbody>\n",
       "</table>\n",
       "<p>73908 rows × 7 columns</p>\n",
       "</div>"
      ],
      "text/plain": [
       "                                    ride_id lpep_pickup_datetime  \\\n",
       "0      cdd5e36f-77dd-4533-9c5f-e5f285ac2b38  2021-01-01 00:15:56   \n",
       "1      e3c6c080-f71c-4100-bfb9-c2dd30a79140  2021-01-01 00:25:59   \n",
       "2      7c752bf7-b518-45db-b634-2e1ca66493e9  2021-01-01 00:45:57   \n",
       "3      0656c0b7-e894-435f-8da9-051d8c6e2327  2020-12-31 23:57:51   \n",
       "4      0456522a-e834-4787-84b0-90cc8c512e2a                  NaT   \n",
       "...                                     ...                  ...   \n",
       "73903  2e108d0a-6fcf-4e4f-977d-8dd1279d3c98  2021-01-28 20:29:00   \n",
       "73904  589b4728-a313-4905-900a-eab0d4db70e1  2021-01-28 20:05:00   \n",
       "73905  aff85fb3-5092-4fe7-bc03-8fb1646b8c6a  2021-01-28 20:47:00   \n",
       "73906  f64f316e-b535-4a39-8b1b-7a1dcb3fdb05  2021-01-28 20:11:00   \n",
       "73907  e9f49ffd-16bd-43bd-9fd7-ff822090ddd2  2021-01-28 20:11:00   \n",
       "\n",
       "      lpep_dropoff_datetime PULocationID DOLocationID  actual_duration  \\\n",
       "0       2021-01-01 00:19:52           43          151         3.933333   \n",
       "1       2021-01-01 00:34:44          166          239         8.750000   \n",
       "2       2021-01-01 00:51:55           41           42         5.966667   \n",
       "3       2021-01-01 00:04:56          168           75         7.083333   \n",
       "4                       NaT          NaN          NaN              NaN   \n",
       "...                     ...          ...          ...              ...   \n",
       "73903   2021-01-28 20:42:00          259          174        13.000000   \n",
       "73904   2021-01-28 20:34:00           42            3        29.000000   \n",
       "73905   2021-01-28 21:20:00           66           76        33.000000   \n",
       "73906   2021-01-28 20:25:00          181           61        14.000000   \n",
       "73907   2021-01-28 20:33:00          142           78        22.000000   \n",
       "\n",
       "       predicted_duration  \n",
       "0                6.862711  \n",
       "1               13.368721  \n",
       "2                6.360871  \n",
       "3               11.824423  \n",
       "4                3.389290  \n",
       "...                   ...  \n",
       "73903           41.526829  \n",
       "73904           43.858974  \n",
       "73905           14.436509  \n",
       "73906           37.092622  \n",
       "73907           11.100840  \n",
       "\n",
       "[73908 rows x 7 columns]"
      ]
     },
     "execution_count": 14,
     "metadata": {},
     "output_type": "execute_result"
    }
   ],
   "source": [
    "df_results"
   ]
  }
 ],
 "metadata": {
  "kernelspec": {
   "display_name": "zcmlops",
   "language": "python",
   "name": "zcmlops"
  },
  "language_info": {
   "codemirror_mode": {
    "name": "ipython",
    "version": 3
   },
   "file_extension": ".py",
   "mimetype": "text/x-python",
   "name": "python",
   "nbconvert_exporter": "python",
   "pygments_lexer": "ipython3",
   "version": "3.13.2"
  }
 },
 "nbformat": 4,
 "nbformat_minor": 5
}
